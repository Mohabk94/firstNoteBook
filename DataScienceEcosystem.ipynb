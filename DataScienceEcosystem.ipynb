{
 "cells": [
  {
   "cell_type": "markdown",
   "id": "d241a799-985c-4dab-ba66-7a92b3251697",
   "metadata": {},
   "source": [
    "# Tools for Data science and Ecosystem"
   ]
  },
  {
   "cell_type": "markdown",
   "id": "b8f1018e-8bd6-4f8d-a8e6-95339e6656fb",
   "metadata": {},
   "source": [
    "### In this notebook, Data Science Tools and Ecosystem are summarized.\n"
   ]
  },
  {
   "cell_type": "markdown",
   "id": "fd86e20a-4d16-41a0-b5ca-a5991b2b04a8",
   "metadata": {},
   "source": [
    "__Objectives of this notebook :__\n",
    "- Create a new brand conda environment and notebook.\n",
    "- Rename the notebook.\n",
    "- Insert markdown cells.\n",
    "- Use tables in markdown cells.\n",
    "- list many language for data science.\n",
    "- list many libraries for data science.\n",
    "- explore arthimatic opreations in Python. \n",
    "\n"
   ]
  },
  {
   "cell_type": "markdown",
   "id": "5a165e92-e07d-4e58-addf-f5d34afa6d44",
   "metadata": {},
   "source": [
    "##### Some of the popular languages that Data Scientists use are:\n",
    "* Python\n",
    "* R\n",
    "* Java\n",
    "* Scala\n",
    "* SQL\n",
    "  "
   ]
  },
  {
   "cell_type": "markdown",
   "id": "c1d7805c-f6f7-40e2-9e1d-8dde5ed6dc2a",
   "metadata": {},
   "source": [
    "##### Some of the commonly used libraries used by Data Scientists include:\n",
    "1. Pandas\n",
    "2. Numpy\n",
    "3. Matplotlip\n",
    "4. TenserFlow\n",
    "5. Scikit_Learn"
   ]
  },
  {
   "cell_type": "markdown",
   "id": "1b5cde76-4f69-493f-9f72-4ae00ec1a28e",
   "metadata": {},
   "source": [
    "| Data Science Tools |\n",
    " :-\n",
    "Jupyter Notebooks \n",
    "R Studio\n",
    "Zeppelin Notebooks"
   ]
  },
  {
   "cell_type": "markdown",
   "id": "af213601-444f-4a40-b80a-a39adca25c2c",
   "metadata": {},
   "source": [
    "### Below are a few examples of evaluating arithmetic expressions in Python\n",
    "- 2+1\n",
    "- 3*18\n",
    "- 44-14"
   ]
  },
  {
   "cell_type": "code",
   "execution_count": 2,
   "id": "7e0f4215-43e7-4dff-b340-339ca58238d5",
   "metadata": {},
   "outputs": [],
   "source": [
    "# This a simple arithmetic expression to mutiply then add integers\n",
    "arthimaticOp = (3*4)+5"
   ]
  },
  {
   "cell_type": "code",
   "execution_count": 3,
   "id": "2abed48a-9549-4a86-9645-8f680779c5c0",
   "metadata": {},
   "outputs": [
    {
     "name": "stdout",
     "output_type": "stream",
     "text": [
      "17\n"
     ]
    }
   ],
   "source": [
    "print (arthimaticOp)"
   ]
  },
  {
   "cell_type": "code",
   "execution_count": 4,
   "id": "4a05b194-f7d6-4f0b-aaed-9cca779c4bd5",
   "metadata": {},
   "outputs": [],
   "source": [
    "# This will convert 200 minutes to hours by diving by 60\n",
    "minutes = 200\n",
    "hours = minutes / 60"
   ]
  },
  {
   "cell_type": "code",
   "execution_count": 5,
   "id": "4723cbdb-846c-4e37-9694-99ed50be715a",
   "metadata": {},
   "outputs": [
    {
     "name": "stdout",
     "output_type": "stream",
     "text": [
      "3.3333333333333335\n"
     ]
    }
   ],
   "source": [
    "print(hours)"
   ]
  },
  {
   "cell_type": "markdown",
   "id": "020950f1-f12b-4bfd-8f10-f533fa9032eb",
   "metadata": {},
   "source": [
    "# Author : \n",
    "**Mohab** "
   ]
  },
  {
   "cell_type": "code",
   "execution_count": null,
   "id": "b74237b3-11d3-46fe-82d3-e09f78f27fda",
   "metadata": {},
   "outputs": [],
   "source": []
  }
 ],
 "metadata": {
  "kernelspec": {
   "display_name": "Python 3 (ipykernel)",
   "language": "python",
   "name": "python3"
  },
  "language_info": {
   "codemirror_mode": {
    "name": "ipython",
    "version": 3
   },
   "file_extension": ".py",
   "mimetype": "text/x-python",
   "name": "python",
   "nbconvert_exporter": "python",
   "pygments_lexer": "ipython3",
   "version": "3.12.7"
  }
 },
 "nbformat": 4,
 "nbformat_minor": 5
}
